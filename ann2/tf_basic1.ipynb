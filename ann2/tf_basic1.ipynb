{
  "cells": [
    {
      "cell_type": "code",
      "execution_count": 1,
      "metadata": {
        "collapsed": true,
        "pycharm": {
          "is_executing": false
        }
      },
      "outputs": [],
      "source": "import numpy as np\nimport tensorflow as tf"
    },
    {
      "cell_type": "code",
      "execution_count": 2,
      "outputs": [],
      "source": "config \u003d tf.ConfigProto()\nconfig.gpu_options.allow_growth \u003d True\nsess \u003d tf.Session(config\u003dconfig)",
      "metadata": {
        "pycharm": {
          "metadata": false,
          "name": "#%%\n",
          "is_executing": false
        }
      }
    },
    {
      "cell_type": "code",
      "execution_count": 3,
      "outputs": [],
      "source": "A \u003d tf.placeholder(tf.float32, shape\u003d(5, 5), name\u003d\u0027A\u0027)\nv \u003d tf.placeholder(tf.float32)",
      "metadata": {
        "pycharm": {
          "metadata": false,
          "name": "#%%\n",
          "is_executing": false
        }
      }
    },
    {
      "cell_type": "code",
      "execution_count": 4,
      "outputs": [],
      "source": "w \u003d tf.matmul(A, v)",
      "metadata": {
        "pycharm": {
          "metadata": false,
          "name": "#%%\n",
          "is_executing": false
        }
      }
    },
    {
      "cell_type": "code",
      "execution_count": 6,
      "outputs": [
        {
          "name": "stdout",
          "text": [
            "[[ 0.39130715]\n [-0.28909338]\n [-1.2602713 ]\n [ 0.26080155]\n [-0.63000596]] \u003cclass \u0027numpy.ndarray\u0027\u003e\n"
          ],
          "output_type": "stream"
        }
      ],
      "source": "with tf.Session() as sess:\n    output \u003d sess.run(w, feed_dict\u003d{A: np.random.randn(5, 5), v: np.random.randn(5, 1)})\n    print(output, type(output))",
      "metadata": {
        "pycharm": {
          "metadata": false,
          "name": "#%%\n",
          "is_executing": false
        }
      }
    },
    {
      "cell_type": "code",
      "execution_count": 7,
      "outputs": [],
      "source": "shape \u003d (2, 2)\nx \u003d tf.Variable(tf.random_normal(shape))\nt \u003d tf.Variable(0)",
      "metadata": {
        "pycharm": {
          "metadata": false,
          "name": "#%%\n",
          "is_executing": false
        }
      }
    },
    {
      "cell_type": "code",
      "execution_count": 8,
      "outputs": [],
      "source": "init \u003d tf.global_variables_initializer()",
      "metadata": {
        "pycharm": {
          "metadata": false,
          "name": "#%%\n",
          "is_executing": false
        }
      }
    },
    {
      "cell_type": "code",
      "execution_count": 9,
      "outputs": [
        {
          "name": "stdout",
          "text": [
            "[[-0.55279124  2.1007018 ]\n [-2.874123    0.03258069]]\n0\n"
          ],
          "output_type": "stream"
        }
      ],
      "source": "with tf.Session() as sess:\n    sess.run(init)\n    print(x.eval())\n    print(t.eval())",
      "metadata": {
        "pycharm": {
          "metadata": false,
          "name": "#%%\n",
          "is_executing": false
        }
      }
    },
    {
      "cell_type": "code",
      "execution_count": 10,
      "outputs": [],
      "source": "u \u003d tf.Variable(20.0)\ncost \u003d u * u + u + 1.0",
      "metadata": {
        "pycharm": {
          "metadata": false,
          "name": "#%%\n",
          "is_executing": false
        }
      }
    },
    {
      "cell_type": "code",
      "execution_count": 22,
      "outputs": [],
      "source": "train_op \u003d tf.train.AdamOptimizer(0.3).minimize(cost)\ninit \u003d tf.global_variables_initializer()",
      "metadata": {
        "pycharm": {
          "metadata": false,
          "name": "#%%\n",
          "is_executing": false
        }
      }
    },
    {
      "cell_type": "code",
      "execution_count": 23,
      "outputs": [
        {
          "name": "stdout",
          "text": [
            "0 19.7 408.79004\n1 19.400126 396.76498\n2 19.100458 384.92798\n3 18.801085 373.28186\n4 18.502092 361.82953\n5 18.20357 350.57352\n6 17.905603 339.51624\n7 17.608286 328.66\n8 17.311708 318.00696\n9 17.01596 307.55887\n10 16.721132 297.31738\n11 16.427315 287.28397\n"
          ],
          "output_type": "stream"
        }
      ],
      "source": "with tf.Session() as sess:\n    sess.run(init)\n    for i in range(12):\n        sess.run(train_op)\n        print(i, u.eval(), cost.eval())",
      "metadata": {
        "pycharm": {
          "metadata": false,
          "name": "#%%\n",
          "is_executing": false
        }
      }
    },
    {
      "cell_type": "code",
      "execution_count": null,
      "outputs": [],
      "source": "\n",
      "metadata": {
        "pycharm": {
          "metadata": false,
          "name": "#%%\n"
        }
      }
    }
  ],
  "metadata": {
    "language_info": {
      "codemirror_mode": {
        "name": "ipython",
        "version": 2
      },
      "file_extension": ".py",
      "mimetype": "text/x-python",
      "name": "python",
      "nbconvert_exporter": "python",
      "pygments_lexer": "ipython2",
      "version": "2.7.6"
    },
    "kernelspec": {
      "name": "python3",
      "language": "python",
      "display_name": "Python 3"
    }
  },
  "nbformat": 4,
  "nbformat_minor": 0
}