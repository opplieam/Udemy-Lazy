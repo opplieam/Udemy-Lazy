{
  "cells": [
    {
      "cell_type": "code",
      "execution_count": 33,
      "metadata": {
        "collapsed": true,
        "pycharm": {
          "is_executing": false
        }
      },
      "outputs": [],
      "source": "import numpy as np\nimport matplotlib.pyplot as plt\nimport seaborn as sns\nfrom scipy.stats import norm"
    },
    {
      "cell_type": "code",
      "execution_count": 15,
      "outputs": [],
      "source": "B \u003d 200\nN \u003d 20\nX \u003d np.random.randn(N)",
      "metadata": {
        "pycharm": {
          "metadata": false,
          "name": "#%%\n",
          "is_executing": false
        }
      }
    },
    {
      "cell_type": "code",
      "execution_count": 16,
      "outputs": [
        {
          "name": "stdout",
          "text": [
            "(200,)\n"
          ],
          "output_type": "stream"
        }
      ],
      "source": "individual_estimates \u003d np.empty(B)\nfor b in range(B):\n    sample \u003d np.random.choice(X, size\u003dN)\n    individual_estimates[b] \u003d sample.mean()\nprint(individual_estimates.shape)",
      "metadata": {
        "pycharm": {
          "metadata": false,
          "name": "#%%\n",
          "is_executing": false
        }
      }
    },
    {
      "cell_type": "code",
      "execution_count": 17,
      "outputs": [],
      "source": "b_mean \u003d individual_estimates.mean()\nb_std \u003d individual_estimates.std()\nlower \u003d b_mean + norm.ppf(0.025) * b_std  # ppf(0.025) \u003d -1.96\nupper \u003d b_mean + norm.ppf(0.975) * b_std  # ppf(0.975) \u003d +1.96",
      "metadata": {
        "pycharm": {
          "metadata": false,
          "name": "#%%\n",
          "is_executing": false
        }
      }
    },
    {
      "cell_type": "markdown",
      "source": "Traditional way to calculate Confident Interval",
      "metadata": {
        "pycharm": {
          "metadata": false,
          "name": "#%% md\n"
        }
      }
    },
    {
      "cell_type": "code",
      "execution_count": 18,
      "outputs": [],
      "source": "lower2 \u003d X.mean() + norm.ppf(0.025) * X.std() / np.sqrt(N)\nupper2 \u003d X.mean() + norm.ppf(0.975) * X.std() / np.sqrt(N)",
      "metadata": {
        "pycharm": {
          "metadata": false,
          "name": "#%%\n",
          "is_executing": false
        }
      }
    },
    {
      "cell_type": "code",
      "execution_count": 19,
      "outputs": [
        {
          "name": "stdout",
          "text": [
            "boostrap mean of X -0.5582819900871869\nSample mean of X: -0.5577285075218575\n"
          ],
          "output_type": "stream"
        }
      ],
      "source": "print(\"boostrap mean of X\", b_mean)\nprint(\"Sample mean of X:\", X.mean())",
      "metadata": {
        "pycharm": {
          "metadata": false,
          "name": "#%%\n",
          "is_executing": false
        }
      }
    },
    {
      "cell_type": "code",
      "execution_count": 40,
      "outputs": [
        {
          "data": {
            "text/plain": "\u003cmatplotlib.legend.Legend at 0x7f77f1012400\u003e"
          },
          "metadata": {},
          "output_type": "execute_result",
          "execution_count": 40
        },
        {
          "data": {
            "text/plain": "\u003cFigure size 432x288 with 1 Axes\u003e",
            "image/png": "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\u003d\n"
          },
          "metadata": {
            "needs_background": "light"
          },
          "output_type": "display_data"
        }
      ],
      "source": "sns.distplot(individual_estimates, kde\u003dFalse)\nplt.axvline(x\u003dlower, linestyle\u003d\u0027--\u0027, color\u003d\u0027g\u0027, label\u003d\"lower bound for 95%% CI (bootstrap)\")\nplt.axvline(x\u003dupper, linestyle\u003d\u0027--\u0027, color\u003d\u0027g\u0027, label\u003d\"upper bound for 95%% CI (bootstrap)\")\nplt.axvline(x\u003dlower2, linestyle\u003d\u0027--\u0027, color\u003d\u0027r\u0027, label\u003d\"lower bound for 95%% CI\")\nplt.axvline(x\u003dupper2, linestyle\u003d\u0027--\u0027, color\u003d\u0027r\u0027, label\u003d\"upper bound for 95%% CI\")\nplt.legend()\n",
      "metadata": {
        "pycharm": {
          "metadata": false,
          "name": "#%%\n",
          "is_executing": false
        }
      }
    }
  ],
  "metadata": {
    "language_info": {
      "codemirror_mode": {
        "name": "ipython",
        "version": 2
      },
      "file_extension": ".py",
      "mimetype": "text/x-python",
      "name": "python",
      "nbconvert_exporter": "python",
      "pygments_lexer": "ipython2",
      "version": "2.7.6"
    },
    "kernelspec": {
      "name": "python3",
      "language": "python",
      "display_name": "Python 3"
    }
  },
  "nbformat": 4,
  "nbformat_minor": 0
}