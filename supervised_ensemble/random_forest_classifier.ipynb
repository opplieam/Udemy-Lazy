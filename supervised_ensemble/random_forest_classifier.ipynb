{
  "cells": [
    {
      "cell_type": "code",
      "execution_count": 12,
      "metadata": {
        "collapsed": true,
        "pycharm": {
          "is_executing": false
        }
      },
      "outputs": [],
      "source": "import pandas as pd\nfrom feature_engine.categorical_encoders import OneHotCategoricalEncoder\nfrom sklearn.tree import DecisionTreeClassifier\nfrom sklearn.ensemble import RandomForestClassifier\nfrom sklearn.linear_model import LogisticRegression\nfrom sklearn.model_selection import cross_val_score"
    },
    {
      "cell_type": "code",
      "execution_count": 15,
      "outputs": [
        {
          "name": "stdout",
          "text": [
            "\u003cclass \u0027pandas.core.frame.DataFrame\u0027\u003e\nRangeIndex: 8124 entries, 0 to 8123\nData columns (total 23 columns):\n0     8124 non-null object\n1     8124 non-null object\n2     8124 non-null object\n3     8124 non-null object\n4     8124 non-null object\n5     8124 non-null object\n6     8124 non-null object\n7     8124 non-null object\n8     8124 non-null object\n9     8124 non-null object\n10    8124 non-null object\n11    8124 non-null object\n12    8124 non-null object\n13    8124 non-null object\n14    8124 non-null object\n15    8124 non-null object\n16    8124 non-null object\n17    8124 non-null object\n18    8124 non-null object\n19    8124 non-null object\n20    8124 non-null object\n21    8124 non-null object\n22    8124 non-null object\ndtypes: object(23)\nmemory usage: 1.4+ MB\n"
          ],
          "output_type": "stream"
        }
      ],
      "source": "df \u003d pd.read_csv(\u0027supervised_ensemble/data/mushroom.data\u0027, header\u003dNone)\ndf.info()",
      "metadata": {
        "pycharm": {
          "metadata": false,
          "name": "#%%\n",
          "is_executing": false
        }
      }
    },
    {
      "cell_type": "markdown",
      "source": "Replace label column: e/p -\u003e 0/1\ne \u003d edible \u003d 0, p \u003d poisonous \u003d 1",
      "metadata": {
        "pycharm": {
          "metadata": false,
          "name": "#%% md\n"
        }
      }
    },
    {
      "cell_type": "code",
      "execution_count": 16,
      "outputs": [],
      "source": "df[0] \u003d df.apply(lambda v: 0 if v[0] \u003d\u003d \u0027e\u0027 else 1, axis\u003d1)",
      "metadata": {
        "pycharm": {
          "metadata": false,
          "name": "#%%\n",
          "is_executing": false
        }
      }
    },
    {
      "cell_type": "code",
      "execution_count": 17,
      "outputs": [],
      "source": "X \u003d df.drop(0, axis\u003d1)\nY \u003d df[0]\nencoder \u003d OneHotCategoricalEncoder()\nX \u003d encoder.fit_transform(X)",
      "metadata": {
        "pycharm": {
          "metadata": false,
          "name": "#%%\n",
          "is_executing": false
        }
      }
    },
    {
      "cell_type": "code",
      "execution_count": 19,
      "outputs": [
        {
          "name": "stderr",
          "text": [
            "/home/opp/miniconda3/envs/tf-gpu/lib/python3.6/site-packages/sklearn/linear_model/logistic.py:433: FutureWarning: Default solver will be changed to \u0027lbfgs\u0027 in 0.22. Specify a solver to silence this warning.\n  FutureWarning)\n/home/opp/miniconda3/envs/tf-gpu/lib/python3.6/site-packages/sklearn/linear_model/logistic.py:433: FutureWarning: Default solver will be changed to \u0027lbfgs\u0027 in 0.22. Specify a solver to silence this warning.\n  FutureWarning)\n/home/opp/miniconda3/envs/tf-gpu/lib/python3.6/site-packages/sklearn/linear_model/logistic.py:433: FutureWarning: Default solver will be changed to \u0027lbfgs\u0027 in 0.22. Specify a solver to silence this warning.\n  FutureWarning)\n/home/opp/miniconda3/envs/tf-gpu/lib/python3.6/site-packages/sklearn/linear_model/logistic.py:433: FutureWarning: Default solver will be changed to \u0027lbfgs\u0027 in 0.22. Specify a solver to silence this warning.\n  FutureWarning)\n/home/opp/miniconda3/envs/tf-gpu/lib/python3.6/site-packages/sklearn/linear_model/logistic.py:433: FutureWarning: Default solver will be changed to \u0027lbfgs\u0027 in 0.22. Specify a solver to silence this warning.\n  FutureWarning)\n/home/opp/miniconda3/envs/tf-gpu/lib/python3.6/site-packages/sklearn/linear_model/logistic.py:433: FutureWarning: Default solver will be changed to \u0027lbfgs\u0027 in 0.22. Specify a solver to silence this warning.\n  FutureWarning)\n",
            "/home/opp/miniconda3/envs/tf-gpu/lib/python3.6/site-packages/sklearn/linear_model/logistic.py:433: FutureWarning: Default solver will be changed to \u0027lbfgs\u0027 in 0.22. Specify a solver to silence this warning.\n  FutureWarning)\n/home/opp/miniconda3/envs/tf-gpu/lib/python3.6/site-packages/sklearn/linear_model/logistic.py:433: FutureWarning: Default solver will be changed to \u0027lbfgs\u0027 in 0.22. Specify a solver to silence this warning.\n  FutureWarning)\n"
          ],
          "output_type": "stream"
        },
        {
          "name": "stdout",
          "text": [
            "CV baseline: 0.9274806301152012\nCV one tree: 0.9180115685970288\n",
            "CV forest: 0.9325433458748691\n"
          ],
          "output_type": "stream"
        }
      ],
      "source": "# do a quick baseline test\nbaseline \u003d LogisticRegression()\nprint(\"CV baseline:\", cross_val_score(baseline, X, Y, cv\u003d8).mean())\n\n# single tree\ntree \u003d DecisionTreeClassifier()\nprint(\"CV one tree:\", cross_val_score(tree, X, Y, cv\u003d8).mean())\n\nmodel \u003d RandomForestClassifier(n_estimators\u003d50) # try 10, 20, 50, 100, 200\nprint(\"CV forest:\", cross_val_score(model, X, Y, cv\u003d8).mean())\n\n",
      "metadata": {
        "pycharm": {
          "metadata": false,
          "name": "#%%\n",
          "is_executing": false
        }
      }
    }
  ],
  "metadata": {
    "language_info": {
      "codemirror_mode": {
        "name": "ipython",
        "version": 2
      },
      "file_extension": ".py",
      "mimetype": "text/x-python",
      "name": "python",
      "nbconvert_exporter": "python",
      "pygments_lexer": "ipython2",
      "version": "2.7.6"
    },
    "kernelspec": {
      "name": "python3",
      "language": "python",
      "display_name": "Python 3"
    }
  },
  "nbformat": 4,
  "nbformat_minor": 0
}