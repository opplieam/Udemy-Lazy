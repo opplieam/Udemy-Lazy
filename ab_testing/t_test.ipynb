{
  "cells": [
    {
      "cell_type": "code",
      "execution_count": 1,
      "metadata": {
        "collapsed": true,
        "pycharm": {
          "is_executing": false
        }
      },
      "outputs": [],
      "source": "import numpy as np\nfrom scipy import stats"
    },
    {
      "cell_type": "code",
      "source": "# Generate data\nN \u003d 10\na \u003d np.random.randn(N) + 2  # mean 2, variance 1\nb \u003d np.random.randn(N)  # mean 0, variance 1",
      "metadata": {
        "pycharm": {
          "metadata": false,
          "name": "#%%\n",
          "is_executing": false
        }
      },
      "execution_count": 2,
      "outputs": []
    },
    {
      "cell_type": "code",
      "execution_count": 3,
      "outputs": [],
      "source": "var_a \u003d a.var(ddof\u003dTrue)  # unbiased estimator, divide by N-1 instead of N\nvar_b \u003d b.var(ddof\u003dTrue)",
      "metadata": {
        "pycharm": {
          "metadata": false,
          "name": "#%%\n",
          "is_executing": false
        }
      }
    },
    {
      "cell_type": "code",
      "execution_count": 4,
      "outputs": [],
      "source": "s \u003d np.sqrt((var_a + var_b) / 2)  # balanced std\nt \u003d (a.mean() - b.mean()) / (s * np.sqrt(2.0 / N))  # t-statistic\ndf \u003d 2 * N  # degrees of freedom\np \u003d 1 - stats.t.cdf(np.abs(t), df\u003ddf)  # one-sided test p-value",
      "metadata": {
        "pycharm": {
          "metadata": false,
          "name": "#%%\n",
          "is_executing": false
        }
      }
    },
    {
      "cell_type": "code",
      "execution_count": 5,
      "outputs": [
        {
          "name": "stdout",
          "text": [
            "t: 3.486604553262499 p: 0.0011630705304135347\nt2: 3.486604553262499 p2: 0.002633902044336211\n"
          ],
          "output_type": "stream"
        }
      ],
      "source": "print(\"t:\", t, \"p:\", p)\nt2, p2 \u003d stats.ttest_ind(a, b)  # ind \u003d independence\nprint(\"t2:\", t2, \"p2:\", p2)",
      "metadata": {
        "pycharm": {
          "metadata": false,
          "name": "#%%\n",
          "is_executing": false
        }
      }
    }
  ],
  "metadata": {
    "language_info": {
      "codemirror_mode": {
        "name": "ipython",
        "version": 2
      },
      "file_extension": ".py",
      "mimetype": "text/x-python",
      "name": "python",
      "nbconvert_exporter": "python",
      "pygments_lexer": "ipython2",
      "version": "2.7.6"
    },
    "kernelspec": {
      "name": "python3",
      "language": "python",
      "display_name": "Python 3"
    }
  },
  "nbformat": 4,
  "nbformat_minor": 0
}