{
  "cells": [
    {
      "cell_type": "code",
      "execution_count": 7,
      "metadata": {
        "collapsed": true,
        "pycharm": {
          "is_executing": false
        }
      },
      "outputs": [],
      "source": "from sklearn.naive_bayes import MultinomialNB\nfrom sklearn.ensemble import AdaBoostClassifier\nimport pandas as pd\nimport numpy as np"
    },
    {
      "cell_type": "code",
      "execution_count": 4,
      "outputs": [],
      "source": "data \u003d pd.read_csv(\u0027./data/spambase.data\u0027).values\nnp.random.shuffle(data)",
      "metadata": {
        "pycharm": {
          "metadata": false,
          "name": "#%%\n",
          "is_executing": false
        }
      }
    },
    {
      "cell_type": "code",
      "execution_count": 5,
      "outputs": [],
      "source": "X \u003d data[:, :48]\nY \u003d data[:, -1]\n\nXtrain \u003d X[:-100,]\nYtrain \u003d Y[:-100,]\nXtest \u003d X[-100:,]\nYtest \u003d Y[-100:,]",
      "metadata": {
        "pycharm": {
          "metadata": false,
          "name": "#%%\n",
          "is_executing": false
        }
      }
    },
    {
      "cell_type": "code",
      "execution_count": 6,
      "outputs": [
        {
          "name": "stdout",
          "text": [
            "Classification rate for NB: 0.86\n"
          ],
          "output_type": "stream"
        }
      ],
      "source": "model \u003d MultinomialNB()\nmodel.fit(Xtrain, Ytrain)\nprint(\"Classification rate for NB:\", model.score(Xtest, Ytest))",
      "metadata": {
        "pycharm": {
          "metadata": false,
          "name": "#%%\n",
          "is_executing": false
        }
      }
    },
    {
      "cell_type": "code",
      "execution_count": 8,
      "outputs": [
        {
          "name": "stdout",
          "text": [
            "Classification rate for Ada: 0.92\n"
          ],
          "output_type": "stream"
        }
      ],
      "source": "model2 \u003d AdaBoostClassifier()\nmodel2.fit(Xtrain, Ytrain)\nmodel2.fit(Xtrain, Ytrain)\nprint(\"Classification rate for Ada:\", model2.score(Xtest, Ytest))",
      "metadata": {
        "pycharm": {
          "metadata": false,
          "name": "#%%\n",
          "is_executing": false
        }
      }
    },
    {
      "cell_type": "code",
      "execution_count": null,
      "outputs": [],
      "source": "\n",
      "metadata": {
        "pycharm": {
          "metadata": false,
          "name": "#%%\n"
        }
      }
    }
  ],
  "metadata": {
    "language_info": {
      "codemirror_mode": {
        "name": "ipython",
        "version": 2
      },
      "file_extension": ".py",
      "mimetype": "text/x-python",
      "name": "python",
      "nbconvert_exporter": "python",
      "pygments_lexer": "ipython2",
      "version": "2.7.6"
    },
    "kernelspec": {
      "name": "python3",
      "language": "python",
      "display_name": "Python 3"
    }
  },
  "nbformat": 4,
  "nbformat_minor": 0
}