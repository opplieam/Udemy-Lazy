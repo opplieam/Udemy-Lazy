{
  "cells": [
    {
      "cell_type": "code",
      "execution_count": 2,
      "metadata": {
        "collapsed": true,
        "pycharm": {
          "is_executing": false
        }
      },
      "outputs": [],
      "source": "from keras.models import Model\nfrom keras.layers import Input, LSTM, GRU\nimport numpy as np\nimport matplotlib.pyplot as plt\n\nimport keras.backend as K\nif len(K.tensorflow_backend._get_available_gpus()) \u003e 0:\n    from keras.layers import CuDNNLSTM as LSTM\n    from keras.layers import CuDNNGRU as GRU"
    },
    {
      "cell_type": "code",
      "execution_count": 3,
      "outputs": [],
      "source": "T \u003d 8\nD \u003d 2\nM \u003d 3\n\nX \u003d np.random.randn(1, T, D)",
      "metadata": {
        "pycharm": {
          "metadata": false,
          "name": "#%%\n",
          "is_executing": false
        }
      }
    },
    {
      "cell_type": "code",
      "execution_count": 4,
      "outputs": [],
      "source": "def lstm1():\n    input_ \u003d Input(shape\u003d(T, D))\n    rnn \u003d LSTM(M, return_state\u003dTrue)\n    x \u003d rnn(input_)\n    \n    model \u003d Model(input_, x)\n    o, h, c \u003d model.predict(X)\n    print(\"o:\", o)\n    print(\"h:\", h)\n    print(\"c:\", c)\n\ndef lstm2():\n    input_ \u003d Input(shape\u003d(T, D))\n    rnn \u003d LSTM(M, return_state\u003dTrue, return_sequences\u003dTrue)\n    x \u003d rnn(input_)\n    \n    model \u003d Model(input_, x)\n    o, h, c \u003d model.predict(X)\n    print(\"o:\", o)\n    print(\"h:\", h)\n    print(\"c:\", c)\n\ndef gru1():\n    input_ \u003d Input(shape\u003d(T, D))\n    rnn \u003d GRU(M, return_state\u003dTrue)\n    x \u003d rnn(input_)\n    \n    model \u003d Model(input_, x)\n    o, h \u003d model.predict(X)\n    print(\"o:\", o)\n    print(\"h:\", h)\n\ndef gru2():\n    input_ \u003d Input(shape\u003d(T, D))\n    rnn \u003d GRU(M, return_state\u003dTrue, return_sequences\u003dTrue)\n    x \u003d rnn(input_)\n    \n    model \u003d Model(input_, x)\n    o, h \u003d model.predict(X)\n    print(\"o:\", o)\n    print(\"h:\", h)",
      "metadata": {
        "pycharm": {
          "metadata": false,
          "name": "#%%\n",
          "is_executing": false
        }
      }
    },
    {
      "cell_type": "code",
      "execution_count": 5,
      "outputs": [
        {
          "name": "stdout",
          "text": [
            "lstm1:\n",
            "o: [[ 0.03838445  0.13209935 -0.10795344]]\nh: [[ 0.03838445  0.13209935 -0.10795344]]\nc: [[ 0.05685591  0.20994118 -0.14142275]]\nlstm2:\no: [[[ 0.11599305  0.1256925  -0.10781699]\n  [ 0.11521567  0.17942551 -0.10310015]\n  [ 0.0266189   0.18865916 -0.05122662]\n  [-0.06087825 -0.09563553  0.06982227]\n  [-0.33823293 -0.24805805  0.21074349]\n  [-0.05284936 -0.15866783  0.08730863]\n  [-0.04282744 -0.17751427  0.06523596]\n  [ 0.06137247  0.02683462 -0.03220469]]]\nh: [[ 0.06137247  0.02683462 -0.03220469]]\nc: [[ 0.18248907  0.06017476 -0.0766963 ]]\ngru1:\n",
            "o: [[ 0.06176398 -0.30909953 -0.10846783]]\nh: [[ 0.06176398 -0.30909953 -0.10846783]]\ngru2:\no: [[[ 0.21512292  0.2948208  -0.00963136]\n  [ 0.34962517  0.290185   -0.00330868]\n  [ 0.08177797  0.1534144  -0.00652864]\n  [-0.6382818  -0.1426416  -0.00543295]\n  [-0.5924832   0.07882399 -0.05546368]\n  [-0.4101083  -0.0459121  -0.07528275]\n  [-0.18622403  0.11382141 -0.06107236]\n  [ 0.02845139  0.19716881 -0.03319811]]]\nh: [[ 0.02845139  0.19716881 -0.03319811]]\n"
          ],
          "output_type": "stream"
        }
      ],
      "source": "print(\"lstm1:\")\nlstm1()\nprint(\"lstm2:\")\nlstm2()\nprint(\"gru1:\")\ngru1()\nprint(\"gru2:\")\ngru2()",
      "metadata": {
        "pycharm": {
          "metadata": false,
          "name": "#%%\n",
          "is_executing": false
        }
      }
    }
  ],
  "metadata": {
    "language_info": {
      "codemirror_mode": {
        "name": "ipython",
        "version": 2
      },
      "file_extension": ".py",
      "mimetype": "text/x-python",
      "name": "python",
      "nbconvert_exporter": "python",
      "pygments_lexer": "ipython2",
      "version": "2.7.6"
    },
    "kernelspec": {
      "name": "python3",
      "language": "python",
      "display_name": "Python 3"
    }
  },
  "nbformat": 4,
  "nbformat_minor": 0
}