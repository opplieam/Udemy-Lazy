{
  "cells": [
    {
      "cell_type": "code",
      "execution_count": 1,
      "metadata": {
        "collapsed": true,
        "pycharm": {
          "is_executing": false
        }
      },
      "outputs": [
        {
          "name": "stderr",
          "text": [
            "Using TensorFlow backend.\n"
          ],
          "output_type": "stream"
        }
      ],
      "source": "from keras.models import Model\nfrom keras.layers import Input, LSTM, GRU, Bidirectional\nimport numpy as np\nimport matplotlib.pyplot as plt"
    },
    {
      "cell_type": "code",
      "execution_count": 2,
      "outputs": [],
      "source": "T \u003d 8\nD \u003d 2\nM \u003d 3\n\nX \u003d np.random.randn(1, T, D)",
      "metadata": {
        "pycharm": {
          "metadata": false,
          "name": "#%%\n",
          "is_executing": false
        }
      }
    },
    {
      "cell_type": "code",
      "execution_count": 3,
      "outputs": [
        {
          "name": "stdout",
          "text": [
            "o: [[[ 0.00757233  0.05688436  0.04088033  0.02205247  0.10022053\n    0.07751354]\n  [ 0.01094299  0.5169285   0.28544748  0.0008078   0.09544002\n    0.28748402]\n  [ 0.12255328  0.5505751   0.29902783 -0.12133048 -0.01601066\n    0.47604915]\n  [ 0.13912813  0.2246774  -0.02480507 -0.08967797 -0.10455385\n    0.17022923]\n  [ 0.01377032  0.02071314 -0.09319296 -0.01773671 -0.0278993\n   -0.00832573]\n  [ 0.08478575  0.20776524 -0.0941842  -0.045237    0.08259636\n    0.06995439]\n  [ 0.06190049  0.74552506  0.2951152   0.11561788  0.16870995\n   -0.4062801 ]\n  [ 0.07743328  0.5938313   0.25773934  0.03251358  0.10281824\n   -0.09498293]]]\no.shape: (1, 8, 6)\nh1: [[0.07743328 0.5938313  0.25773934]]\nc1: [[0.15248454 1.3882859  0.47309384]]\nh2: [[0.02205247 0.10022053 0.07751354]]\nc2: [[0.04171491 0.21080118 0.13690627]]\n"
          ],
          "output_type": "stream"
        }
      ],
      "source": "input_ \u003d Input(shape\u003d(T, D))\nrnn \u003d Bidirectional(LSTM(M, return_state\u003dTrue, return_sequences\u003dTrue))\nx \u003d rnn(input_)\n\nmodel \u003d Model(input_, x)\no, h1, c1, h2, c2 \u003d model.predict(X)\nprint(\"o:\", o)\nprint(\"o.shape:\", o.shape)\nprint(\"h1:\", h1)\nprint(\"c1:\", c1)\nprint(\"h2:\", h2)\nprint(\"c2:\", c2)",
      "metadata": {
        "pycharm": {
          "metadata": false,
          "name": "#%%\n",
          "is_executing": false
        }
      }
    },
    {
      "cell_type": "code",
      "execution_count": 4,
      "outputs": [
        {
          "name": "stdout",
          "text": [
            "o: [[-0.0985736   0.11332804  0.39022776 -0.04219111 -0.22395393 -0.16924842]]\no.shape: (1, 6)\nh1: [[-0.0985736   0.11332804  0.39022776]]\nc1: [[-0.24324228  0.19750233  0.70061815]]\nh2: [[-0.04219111 -0.22395393 -0.16924842]]\nc2: [[-0.09241733 -0.5324135  -0.34139994]]\n"
          ],
          "output_type": "stream"
        }
      ],
      "source": "input_ \u003d Input(shape\u003d(T, D))\nrnn \u003d Bidirectional(LSTM(M, return_state\u003dTrue, return_sequences\u003dFalse))\nx \u003d rnn(input_)\n\nmodel \u003d Model(input_, x)\no, h1, c1, h2, c2 \u003d model.predict(X)\nprint(\"o:\", o)\nprint(\"o.shape:\", o.shape)\nprint(\"h1:\", h1)\nprint(\"c1:\", c1)\nprint(\"h2:\", h2)\nprint(\"c2:\", c2)",
      "metadata": {
        "pycharm": {
          "metadata": false,
          "name": "#%%\n",
          "is_executing": false
        }
      }
    },
    {
      "cell_type": "code",
      "execution_count": null,
      "outputs": [],
      "source": "\n",
      "metadata": {
        "pycharm": {
          "metadata": false,
          "name": "#%%\n"
        }
      }
    }
  ],
  "metadata": {
    "language_info": {
      "codemirror_mode": {
        "name": "ipython",
        "version": 2
      },
      "file_extension": ".py",
      "mimetype": "text/x-python",
      "name": "python",
      "nbconvert_exporter": "python",
      "pygments_lexer": "ipython2",
      "version": "2.7.6"
    },
    "kernelspec": {
      "name": "python3",
      "language": "python",
      "display_name": "Python 3"
    }
  },
  "nbformat": 4,
  "nbformat_minor": 0
}